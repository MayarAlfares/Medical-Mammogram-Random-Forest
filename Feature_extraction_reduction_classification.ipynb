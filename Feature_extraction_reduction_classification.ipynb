{
 "cells": [
  {
   "cell_type": "code",
   "execution_count": 133,
   "metadata": {},
   "outputs": [],
   "source": [
    "import os, urllib\n",
    "from urllib.request import urlretrieve"
   ]
  },
  {
   "cell_type": "code",
   "execution_count": 134,
   "metadata": {
    "scrolled": true
   },
   "outputs": [],
   "source": [
    "import mxnet as mx\n",
    "sym, arg_params, aux_params = mx.model.load_checkpoint('Inception-BN', 0)"
   ]
  },
  {
   "cell_type": "code",
   "execution_count": 135,
   "metadata": {},
   "outputs": [],
   "source": [
    "mod = mx.mod.Module(symbol=sym, context=mx.cpu())\n"
   ]
  },
  {
   "cell_type": "code",
   "execution_count": 136,
   "metadata": {},
   "outputs": [
    {
     "name": "stderr",
     "output_type": "stream",
     "text": [
      "D:\\Anaconda-Jupyter\\lib\\site-packages\\mxnet\\module\\base_module.py:66: UserWarning: Data provided by label_shapes don't match names specified by label_names ([] vs. ['softmax_label'])\n",
      "  warnings.warn(msg)\n"
     ]
    }
   ],
   "source": [
    "mod.bind(for_training = False,\n",
    "         data_shapes=[('data', (1,3,224,224))])\n",
    "mod.set_params(arg_params, aux_params)"
   ]
  },
  {
   "cell_type": "code",
   "execution_count": 137,
   "metadata": {},
   "outputs": [],
   "source": [
    "import numpy as np\n",
    "import cv2\n",
    "\n",
    "from keras.preprocessing.image import img_to_array\n",
    "from keras.applications.vgg16 import preprocess_input\n",
    "from keras.applications.vgg16 import decode_predictions\n",
    "from keras.applications.vgg16 import VGG16\n",
    "\n",
    "\n",
    "\n",
    "def get_image(filename):\n",
    "    img = cv2.imread(filename)  # read image in b,g,r order\n",
    "    img = cv2.cvtColor(img, cv2.COLOR_BGR2RGB)   # change to r,g,b order\n",
    "    img = cv2.resize(img, (224, 224))  # resize to 224*224 to fit model\n",
    "    img = np.swapaxes(img, 0, 2)\n",
    "    img = np.swapaxes(img, 1, 2)  # change to (channel, height, width)\n",
    "    img = img[np.newaxis, :]  # extend to (example, channel, heigth, width)\n",
    "    return img"
   ]
  },
  {
   "cell_type": "code",
   "execution_count": 138,
   "metadata": {},
   "outputs": [],
   "source": [
    "from collections import namedtuple\n",
    "Batch = namedtuple('Batch', ['data'])"
   ]
  },
  {
   "cell_type": "code",
   "execution_count": 139,
   "metadata": {},
   "outputs": [],
   "source": [
    "import pandas as pd\n",
    "all_cases_df = pd.read_table('C:/Users/victory/Desktop/MIAS/mammogram_info.csv', delimiter=' ')\n",
    "#all_cases_df.head(5) "
   ]
  },
  {
   "cell_type": "code",
   "execution_count": 140,
   "metadata": {},
   "outputs": [
    {
     "data": {
      "text/plain": [
       "['bn_5b_proj_output',\n",
       " 'relu_5b_proj_output',\n",
       " 'ch_concat_5b_chconcat_output',\n",
       " 'global_pool_output',\n",
       " 'flatten_output',\n",
       " 'fc1_weight',\n",
       " 'fc1_bias',\n",
       " 'fc1_output',\n",
       " 'softmax_label']"
      ]
     },
     "execution_count": 140,
     "metadata": {},
     "output_type": "execute_result"
    }
   ],
   "source": [
    "all_layers = sym.get_internals()\n",
    "all_layers.list_outputs()[-10:-1]"
   ]
  },
  {
   "cell_type": "code",
   "execution_count": 141,
   "metadata": {
    "scrolled": true
   },
   "outputs": [
    {
     "name": "stderr",
     "output_type": "stream",
     "text": [
      "D:\\Anaconda-Jupyter\\lib\\site-packages\\mxnet\\module\\base_module.py:54: UserWarning: \u001b[91mYou created Module with Module(..., label_names=['softmax_label']) but input with name 'softmax_label' is not found in symbol.list_arguments(). Did you mean one of:\n",
      "\tdata\u001b[0m\n",
      "  warnings.warn(msg)\n",
      "D:\\Anaconda-Jupyter\\lib\\site-packages\\mxnet\\module\\base_module.py:66: UserWarning: Data provided by label_shapes don't match names specified by label_names ([] vs. ['softmax_label'])\n",
      "  warnings.warn(msg)\n"
     ]
    },
    {
     "data": {
      "text/plain": [
       "['data',\n",
       " 'conv_1_weight',\n",
       " 'conv_1_bias',\n",
       " 'bn_1_gamma',\n",
       " 'bn_1_beta',\n",
       " 'conv_2_red_weight',\n",
       " 'conv_2_red_bias',\n",
       " 'bn_2_red_gamma',\n",
       " 'bn_2_red_beta',\n",
       " 'conv_2_weight',\n",
       " 'conv_2_bias',\n",
       " 'bn_2_gamma',\n",
       " 'bn_2_beta',\n",
       " 'conv_3a_1x1_weight',\n",
       " 'conv_3a_1x1_bias',\n",
       " 'bn_3a_1x1_gamma',\n",
       " 'bn_3a_1x1_beta',\n",
       " 'conv_3a_3x3_reduce_weight',\n",
       " 'conv_3a_3x3_reduce_bias',\n",
       " 'bn_3a_3x3_reduce_gamma',\n",
       " 'bn_3a_3x3_reduce_beta',\n",
       " 'conv_3a_3x3_weight',\n",
       " 'conv_3a_3x3_bias',\n",
       " 'bn_3a_3x3_gamma',\n",
       " 'bn_3a_3x3_beta',\n",
       " 'conv_3a_double_3x3_reduce_weight',\n",
       " 'conv_3a_double_3x3_reduce_bias',\n",
       " 'bn_3a_double_3x3_reduce_gamma',\n",
       " 'bn_3a_double_3x3_reduce_beta',\n",
       " 'conv_3a_double_3x3_0_weight',\n",
       " 'conv_3a_double_3x3_0_bias',\n",
       " 'bn_3a_double_3x3_0_gamma',\n",
       " 'bn_3a_double_3x3_0_beta',\n",
       " 'conv_3a_double_3x3_1_weight',\n",
       " 'conv_3a_double_3x3_1_bias',\n",
       " 'bn_3a_double_3x3_1_gamma',\n",
       " 'bn_3a_double_3x3_1_beta',\n",
       " 'conv_3a_proj_weight',\n",
       " 'conv_3a_proj_bias',\n",
       " 'bn_3a_proj_gamma',\n",
       " 'bn_3a_proj_beta',\n",
       " 'conv_3b_1x1_weight',\n",
       " 'conv_3b_1x1_bias',\n",
       " 'bn_3b_1x1_gamma',\n",
       " 'bn_3b_1x1_beta',\n",
       " 'conv_3b_3x3_reduce_weight',\n",
       " 'conv_3b_3x3_reduce_bias',\n",
       " 'bn_3b_3x3_reduce_gamma',\n",
       " 'bn_3b_3x3_reduce_beta',\n",
       " 'conv_3b_3x3_weight',\n",
       " 'conv_3b_3x3_bias',\n",
       " 'bn_3b_3x3_gamma',\n",
       " 'bn_3b_3x3_beta',\n",
       " 'conv_3b_double_3x3_reduce_weight',\n",
       " 'conv_3b_double_3x3_reduce_bias',\n",
       " 'bn_3b_double_3x3_reduce_gamma',\n",
       " 'bn_3b_double_3x3_reduce_beta',\n",
       " 'conv_3b_double_3x3_0_weight',\n",
       " 'conv_3b_double_3x3_0_bias',\n",
       " 'bn_3b_double_3x3_0_gamma',\n",
       " 'bn_3b_double_3x3_0_beta',\n",
       " 'conv_3b_double_3x3_1_weight',\n",
       " 'conv_3b_double_3x3_1_bias',\n",
       " 'bn_3b_double_3x3_1_gamma',\n",
       " 'bn_3b_double_3x3_1_beta',\n",
       " 'conv_3b_proj_weight',\n",
       " 'conv_3b_proj_bias',\n",
       " 'bn_3b_proj_gamma',\n",
       " 'bn_3b_proj_beta',\n",
       " 'conv_3c_3x3_reduce_weight',\n",
       " 'conv_3c_3x3_reduce_bias',\n",
       " 'bn_3c_3x3_reduce_gamma',\n",
       " 'bn_3c_3x3_reduce_beta',\n",
       " 'conv_3c_3x3_weight',\n",
       " 'conv_3c_3x3_bias',\n",
       " 'bn_3c_3x3_gamma',\n",
       " 'bn_3c_3x3_beta',\n",
       " 'conv_3c_double_3x3_reduce_weight',\n",
       " 'conv_3c_double_3x3_reduce_bias',\n",
       " 'bn_3c_double_3x3_reduce_gamma',\n",
       " 'bn_3c_double_3x3_reduce_beta',\n",
       " 'conv_3c_double_3x3_0_weight',\n",
       " 'conv_3c_double_3x3_0_bias',\n",
       " 'bn_3c_double_3x3_0_gamma',\n",
       " 'bn_3c_double_3x3_0_beta',\n",
       " 'conv_3c_double_3x3_1_weight',\n",
       " 'conv_3c_double_3x3_1_bias',\n",
       " 'bn_3c_double_3x3_1_gamma',\n",
       " 'bn_3c_double_3x3_1_beta',\n",
       " 'conv_4a_1x1_weight',\n",
       " 'conv_4a_1x1_bias',\n",
       " 'bn_4a_1x1_gamma',\n",
       " 'bn_4a_1x1_beta',\n",
       " 'conv_4a_3x3_reduce_weight',\n",
       " 'conv_4a_3x3_reduce_bias',\n",
       " 'bn_4a_3x3_reduce_gamma',\n",
       " 'bn_4a_3x3_reduce_beta',\n",
       " 'conv_4a_3x3_weight',\n",
       " 'conv_4a_3x3_bias',\n",
       " 'bn_4a_3x3_gamma',\n",
       " 'bn_4a_3x3_beta',\n",
       " 'conv_4a_double_3x3_reduce_weight',\n",
       " 'conv_4a_double_3x3_reduce_bias',\n",
       " 'bn_4a_double_3x3_reduce_gamma',\n",
       " 'bn_4a_double_3x3_reduce_beta',\n",
       " 'conv_4a_double_3x3_0_weight',\n",
       " 'conv_4a_double_3x3_0_bias',\n",
       " 'bn_4a_double_3x3_0_gamma',\n",
       " 'bn_4a_double_3x3_0_beta',\n",
       " 'conv_4a_double_3x3_1_weight',\n",
       " 'conv_4a_double_3x3_1_bias',\n",
       " 'bn_4a_double_3x3_1_gamma',\n",
       " 'bn_4a_double_3x3_1_beta',\n",
       " 'conv_4a_proj_weight',\n",
       " 'conv_4a_proj_bias',\n",
       " 'bn_4a_proj_gamma',\n",
       " 'bn_4a_proj_beta',\n",
       " 'conv_4b_1x1_weight',\n",
       " 'conv_4b_1x1_bias',\n",
       " 'bn_4b_1x1_gamma',\n",
       " 'bn_4b_1x1_beta',\n",
       " 'conv_4b_3x3_reduce_weight',\n",
       " 'conv_4b_3x3_reduce_bias',\n",
       " 'bn_4b_3x3_reduce_gamma',\n",
       " 'bn_4b_3x3_reduce_beta',\n",
       " 'conv_4b_3x3_weight',\n",
       " 'conv_4b_3x3_bias',\n",
       " 'bn_4b_3x3_gamma',\n",
       " 'bn_4b_3x3_beta',\n",
       " 'conv_4b_double_3x3_reduce_weight',\n",
       " 'conv_4b_double_3x3_reduce_bias',\n",
       " 'bn_4b_double_3x3_reduce_gamma',\n",
       " 'bn_4b_double_3x3_reduce_beta',\n",
       " 'conv_4b_double_3x3_0_weight',\n",
       " 'conv_4b_double_3x3_0_bias',\n",
       " 'bn_4b_double_3x3_0_gamma',\n",
       " 'bn_4b_double_3x3_0_beta',\n",
       " 'conv_4b_double_3x3_1_weight',\n",
       " 'conv_4b_double_3x3_1_bias',\n",
       " 'bn_4b_double_3x3_1_gamma',\n",
       " 'bn_4b_double_3x3_1_beta',\n",
       " 'conv_4b_proj_weight',\n",
       " 'conv_4b_proj_bias',\n",
       " 'bn_4b_proj_gamma',\n",
       " 'bn_4b_proj_beta',\n",
       " 'conv_4c_1x1_weight',\n",
       " 'conv_4c_1x1_bias',\n",
       " 'bn_4c_1x1_gamma',\n",
       " 'bn_4c_1x1_beta',\n",
       " 'conv_4c_3x3_reduce_weight',\n",
       " 'conv_4c_3x3_reduce_bias',\n",
       " 'bn_4c_3x3_reduce_gamma',\n",
       " 'bn_4c_3x3_reduce_beta',\n",
       " 'conv_4c_3x3_weight',\n",
       " 'conv_4c_3x3_bias',\n",
       " 'bn_4c_3x3_gamma',\n",
       " 'bn_4c_3x3_beta',\n",
       " 'conv_4c_double_3x3_reduce_weight',\n",
       " 'conv_4c_double_3x3_reduce_bias',\n",
       " 'bn_4c_double_3x3_reduce_gamma',\n",
       " 'bn_4c_double_3x3_reduce_beta',\n",
       " 'conv_4c_double_3x3_0_weight',\n",
       " 'conv_4c_double_3x3_0_bias',\n",
       " 'bn_4c_double_3x3_0_gamma',\n",
       " 'bn_4c_double_3x3_0_beta',\n",
       " 'conv_4c_double_3x3_1_weight',\n",
       " 'conv_4c_double_3x3_1_bias',\n",
       " 'bn_4c_double_3x3_1_gamma',\n",
       " 'bn_4c_double_3x3_1_beta',\n",
       " 'conv_4c_proj_weight',\n",
       " 'conv_4c_proj_bias',\n",
       " 'bn_4c_proj_gamma',\n",
       " 'bn_4c_proj_beta',\n",
       " 'conv_4d_1x1_weight',\n",
       " 'conv_4d_1x1_bias',\n",
       " 'bn_4d_1x1_gamma',\n",
       " 'bn_4d_1x1_beta',\n",
       " 'conv_4d_3x3_reduce_weight',\n",
       " 'conv_4d_3x3_reduce_bias',\n",
       " 'bn_4d_3x3_reduce_gamma',\n",
       " 'bn_4d_3x3_reduce_beta',\n",
       " 'conv_4d_3x3_weight',\n",
       " 'conv_4d_3x3_bias',\n",
       " 'bn_4d_3x3_gamma',\n",
       " 'bn_4d_3x3_beta',\n",
       " 'conv_4d_double_3x3_reduce_weight',\n",
       " 'conv_4d_double_3x3_reduce_bias',\n",
       " 'bn_4d_double_3x3_reduce_gamma',\n",
       " 'bn_4d_double_3x3_reduce_beta',\n",
       " 'conv_4d_double_3x3_0_weight',\n",
       " 'conv_4d_double_3x3_0_bias',\n",
       " 'bn_4d_double_3x3_0_gamma',\n",
       " 'bn_4d_double_3x3_0_beta',\n",
       " 'conv_4d_double_3x3_1_weight',\n",
       " 'conv_4d_double_3x3_1_bias',\n",
       " 'bn_4d_double_3x3_1_gamma',\n",
       " 'bn_4d_double_3x3_1_beta',\n",
       " 'conv_4d_proj_weight',\n",
       " 'conv_4d_proj_bias',\n",
       " 'bn_4d_proj_gamma',\n",
       " 'bn_4d_proj_beta',\n",
       " 'conv_4e_3x3_reduce_weight',\n",
       " 'conv_4e_3x3_reduce_bias',\n",
       " 'bn_4e_3x3_reduce_gamma',\n",
       " 'bn_4e_3x3_reduce_beta',\n",
       " 'conv_4e_3x3_weight',\n",
       " 'conv_4e_3x3_bias',\n",
       " 'bn_4e_3x3_gamma',\n",
       " 'bn_4e_3x3_beta',\n",
       " 'conv_4e_double_3x3_reduce_weight',\n",
       " 'conv_4e_double_3x3_reduce_bias',\n",
       " 'bn_4e_double_3x3_reduce_gamma',\n",
       " 'bn_4e_double_3x3_reduce_beta',\n",
       " 'conv_4e_double_3x3_0_weight',\n",
       " 'conv_4e_double_3x3_0_bias',\n",
       " 'bn_4e_double_3x3_0_gamma',\n",
       " 'bn_4e_double_3x3_0_beta',\n",
       " 'conv_4e_double_3x3_1_weight',\n",
       " 'conv_4e_double_3x3_1_bias',\n",
       " 'bn_4e_double_3x3_1_gamma',\n",
       " 'bn_4e_double_3x3_1_beta',\n",
       " 'conv_5a_1x1_weight',\n",
       " 'conv_5a_1x1_bias',\n",
       " 'bn_5a_1x1_gamma',\n",
       " 'bn_5a_1x1_beta',\n",
       " 'conv_5a_3x3_reduce_weight',\n",
       " 'conv_5a_3x3_reduce_bias',\n",
       " 'bn_5a_3x3_reduce_gamma',\n",
       " 'bn_5a_3x3_reduce_beta',\n",
       " 'conv_5a_3x3_weight',\n",
       " 'conv_5a_3x3_bias',\n",
       " 'bn_5a_3x3_gamma',\n",
       " 'bn_5a_3x3_beta',\n",
       " 'conv_5a_double_3x3_reduce_weight',\n",
       " 'conv_5a_double_3x3_reduce_bias',\n",
       " 'bn_5a_double_3x3_reduce_gamma',\n",
       " 'bn_5a_double_3x3_reduce_beta',\n",
       " 'conv_5a_double_3x3_0_weight',\n",
       " 'conv_5a_double_3x3_0_bias',\n",
       " 'bn_5a_double_3x3_0_gamma',\n",
       " 'bn_5a_double_3x3_0_beta',\n",
       " 'conv_5a_double_3x3_1_weight',\n",
       " 'conv_5a_double_3x3_1_bias',\n",
       " 'bn_5a_double_3x3_1_gamma',\n",
       " 'bn_5a_double_3x3_1_beta',\n",
       " 'conv_5a_proj_weight',\n",
       " 'conv_5a_proj_bias',\n",
       " 'bn_5a_proj_gamma',\n",
       " 'bn_5a_proj_beta',\n",
       " 'conv_5b_1x1_weight',\n",
       " 'conv_5b_1x1_bias',\n",
       " 'bn_5b_1x1_gamma',\n",
       " 'bn_5b_1x1_beta',\n",
       " 'conv_5b_3x3_reduce_weight',\n",
       " 'conv_5b_3x3_reduce_bias',\n",
       " 'bn_5b_3x3_reduce_gamma',\n",
       " 'bn_5b_3x3_reduce_beta',\n",
       " 'conv_5b_3x3_weight',\n",
       " 'conv_5b_3x3_bias',\n",
       " 'bn_5b_3x3_gamma',\n",
       " 'bn_5b_3x3_beta',\n",
       " 'conv_5b_double_3x3_reduce_weight',\n",
       " 'conv_5b_double_3x3_reduce_bias',\n",
       " 'bn_5b_double_3x3_reduce_gamma',\n",
       " 'bn_5b_double_3x3_reduce_beta',\n",
       " 'conv_5b_double_3x3_0_weight',\n",
       " 'conv_5b_double_3x3_0_bias',\n",
       " 'bn_5b_double_3x3_0_gamma',\n",
       " 'bn_5b_double_3x3_0_beta',\n",
       " 'conv_5b_double_3x3_1_weight',\n",
       " 'conv_5b_double_3x3_1_bias',\n",
       " 'bn_5b_double_3x3_1_gamma',\n",
       " 'bn_5b_double_3x3_1_beta',\n",
       " 'conv_5b_proj_weight',\n",
       " 'conv_5b_proj_bias',\n",
       " 'bn_5b_proj_gamma',\n",
       " 'bn_5b_proj_beta']"
      ]
     },
     "execution_count": 141,
     "metadata": {},
     "output_type": "execute_result"
    }
   ],
   "source": [
    "all_layers = sym.get_internals()\n",
    "sym3 = all_layers['flatten_output']\n",
    "mod3 = mx.mod.Module(symbol=sym3, context=mx.cpu())\n",
    "mod3.bind(for_training=False, data_shapes=[('data', (1,3,224,224))]) #batch size = 1 aw 32\n",
    "mod3.set_params(arg_params, aux_params)\n",
    "\n",
    "sym3.list_arguments()"
   ]
  },
  {
   "cell_type": "code",
   "execution_count": 142,
   "metadata": {
    "scrolled": false
   },
   "outputs": [
    {
     "name": "stdout",
     "output_type": "stream",
     "text": [
      "(300, 1, 3, 224, 224)\n",
      "(147, 1, 3, 224, 224)\n"
     ]
    }
   ],
   "source": [
    "#extraction of features of our classes\n",
    "from PIL import Image\n",
    "import glob\n",
    "\n",
    "\n",
    "out=[]\n",
    "\n",
    "data_pos_mal = np.array([get_image('C:/Users/victory/Desktop/MIAS/ClassMalignant/MalignantROI/'+img) for img in os.listdir('C:/Users/victory/Desktop/MIAS/ClassMalignant/MalignantROI/') if img.endswith('.jpg')])\n",
    "data_pos_ben = np.array([get_image('C:/Users/victory/Desktop/MIAS/ClassBenign/BenignROInew/'+img) for img in os.listdir('C:/Users/victory/Desktop/MIAS/ClassBenign/BenignROInew/') if img.endswith('.jpg')])\n",
    "\n",
    "data_pos= np.append(data_pos_mal,data_pos_ben,axis=0)\n",
    "\n",
    "print (data_pos.shape)\n",
    "print (data_pos_mal.shape)\n",
    "\n"
   ]
  },
  {
   "cell_type": "code",
   "execution_count": 143,
   "metadata": {},
   "outputs": [
    {
     "name": "stdout",
     "output_type": "stream",
     "text": [
      "(300, 1, 1024)\n",
      "(300, 1024)\n"
     ]
    }
   ],
   "source": [
    "for img in data_pos:\n",
    "    mod3.forward(Batch([mx.nd.array(img)]))\n",
    "    out.append(mod3.get_outputs()[0].asnumpy())\n",
    "out = np.array(out)\n",
    "\n",
    "print (out.shape)\n",
    "X = out\n",
    "X = X.reshape((X.shape[0], -1), order='F')\n",
    "print (X.shape)"
   ]
  },
  {
   "cell_type": "code",
   "execution_count": 144,
   "metadata": {},
   "outputs": [],
   "source": [
    "Y = np.ones(300)                       #Alllabels\n",
    "for i in range(len(Y)):\n",
    "    if i >= 147: #positive size\n",
    "        Y[i]= 0\n",
    "\n"
   ]
  },
  {
   "cell_type": "code",
   "execution_count": null,
   "metadata": {
    "scrolled": true
   },
   "outputs": [],
   "source": [
    "print(cv_scores)\n",
    "print('\\n')\n",
    "print(\"=== Mean AUC Score ===\")\n",
    "print(\"Mean AUC Score - Random Forest: \", cv_scores.mean())"
   ]
  },
  {
   "cell_type": "code",
   "execution_count": null,
   "metadata": {},
   "outputs": [],
   "source": [
    "print(Y)"
   ]
  },
  {
   "cell_type": "code",
   "execution_count": null,
   "metadata": {},
   "outputs": [],
   "source": [
    "print (X.shape)"
   ]
  },
  {
   "cell_type": "code",
   "execution_count": 80,
   "metadata": {},
   "outputs": [],
   "source": [
    "from sklearn.feature_selection import SelectKBest\n",
    "from sklearn.feature_selection import chi2\n",
    "\n",
    "# feature extraction\n",
    "test = SelectKBest(score_func=chi2, k=10)\n",
    "fit = test.fit(X, Y)\n"
   ]
  },
  {
   "cell_type": "code",
   "execution_count": 81,
   "metadata": {},
   "outputs": [
    {
     "name": "stdout",
     "output_type": "stream",
     "text": [
      "[3.488e-02 9.029e-01 1.206e-01 ... 3.001e-01 7.012e-04 3.713e-03]\n",
      "[[5.901e-01 4.881e-03 1.507e-01 1.548e-01 7.727e-01 0.000e+00 3.823e-01\n",
      "  1.533e-01 1.609e-02 4.148e-03]\n",
      " [3.846e-01 0.000e+00 0.000e+00 1.707e-01 1.457e-01 0.000e+00 7.570e-01\n",
      "  0.000e+00 3.213e-03 0.000e+00]\n",
      " [1.075e+00 1.160e-01 3.592e-02 7.462e-02 1.027e-02 0.000e+00 1.533e+00\n",
      "  0.000e+00 5.961e-02 1.577e-03]\n",
      " [1.102e+00 4.046e-01 5.847e-01 2.880e-01 3.618e-01 0.000e+00 1.995e+00\n",
      "  0.000e+00 4.165e-01 2.230e-01]\n",
      " [9.019e-01 3.976e-01 9.709e-02 2.370e-01 1.622e-01 0.000e+00 2.029e+00\n",
      "  0.000e+00 3.582e-01 5.638e-01]]\n",
      "(300, 10)\n"
     ]
    }
   ],
   "source": [
    "# summarize scores\n",
    "np.set_printoptions(precision=3)\n",
    "print(fit.scores_)\n",
    "features = fit.transform(X)\n",
    "# summarize selected features\n",
    "print(features[0:5,:])\n",
    "\n",
    "print(features.shape)"
   ]
  },
  {
   "cell_type": "code",
   "execution_count": 91,
   "metadata": {
    "scrolled": true
   },
   "outputs": [
    {
     "name": "stdout",
     "output_type": "stream",
     "text": [
      "Explained Variance:  [0.187 0.133 0.097 0.066 0.052 0.035 0.032 0.027 0.024 0.023]\n",
      "[[-5.702e-02 -1.891e-01  3.044e-02 ... -3.126e-04 -4.623e-05  1.142e-03]\n",
      " [ 4.200e-02  1.094e-01 -2.607e-01 ...  1.300e-03  2.785e-04  2.156e-02]\n",
      " [-5.654e-02  5.056e-02 -1.738e-01 ... -9.599e-04 -1.626e-04 -2.657e-03]\n",
      " ...\n",
      " [ 1.206e-01  2.710e-02 -1.077e-02 ... -1.096e-03 -3.214e-04 -5.550e-03]\n",
      " [-8.136e-02 -5.439e-02  7.196e-02 ...  3.595e-04  3.142e-04 -4.161e-03]\n",
      " [-7.046e-02 -4.614e-02 -1.686e-02 ...  1.577e-03 -1.494e-04  1.503e-02]]\n"
     ]
    }
   ],
   "source": [
    "from sklearn.decomposition import PCA\n",
    "\n",
    "# feature extraction\n",
    "pca = PCA(n_components=10)\n",
    "fit = pca.fit(X)\n",
    "features = fit.transform(X)\n",
    "\n",
    "# summarize components\n",
    "print(\"Explained Variance: \", fit.explained_variance_ratio_)\n",
    "print(fit.components_)"
   ]
  },
  {
   "cell_type": "markdown",
   "metadata": {},
   "source": [
    "# Random Forest"
   ]
  },
  {
   "cell_type": "code",
   "execution_count": 145,
   "metadata": {},
   "outputs": [],
   "source": [
    "from sklearn.model_selection import train_test_split\n",
    "\n",
    "imgs_train, imgs_test, input_gts_train, input_gts_test, = train_test_split(X, Y, test_size=0.25, random_state=42) #0.3 and 12\n"
   ]
  },
  {
   "cell_type": "code",
   "execution_count": 146,
   "metadata": {
    "scrolled": false
   },
   "outputs": [
    {
     "name": "stdout",
     "output_type": "stream",
     "text": [
      "split is 3 depth is 1000\n",
      "train\n",
      "0.0 1.0\n",
      "test\n",
      "0.29333333333333333 0.7066666666666667\n",
      "Done.\n"
     ]
    }
   ],
   "source": [
    "# Random Forest Classification\n",
    "from sklearn.ensemble import RandomForestClassifier\n",
    "\n",
    "#imgs_train= X[:200] #63 %\n",
    "#input_gts_train = Y[:200]\n",
    "#imgs_test = X[200:] #to do\n",
    "#input_gts_test = Y[200:] \n",
    "#_________________________________________________________________________________________________________________________\n",
    "split =3\n",
    "dep = 1000 #140\n",
    "\n",
    "Mrfc = RandomForestClassifier(n_estimators = 1000, #1000\n",
    "                             bootstrap = True,\n",
    "                             oob_score = True,\n",
    "                             criterion = 'gini', \n",
    "                             max_features = 'auto',\n",
    "                             class_weight=\"balanced\" ,\n",
    "                             max_depth = dep,\n",
    "                             min_samples_split = 5, #int(10000 / split), \n",
    "                             min_samples_leaf = 10, #int(3000 / split), \n",
    "                             max_leaf_nodes = None,\n",
    "                             n_jobs=-1\n",
    "                            )\n",
    "\n",
    "Mrfc.fit(imgs_train,input_gts_train)\n",
    "input_gts_train0 = Mrfc.predict(imgs_train)\n",
    "accuray_train = np.mean((input_gts_train0 - input_gts_train) ** 2)\n",
    "print ('split is ' + str(split) + ' depth is ' + str(dep))\n",
    "print ('train')\n",
    "print(accuray_train, Mrfc.score(imgs_train,input_gts_train))\n",
    "input_gts_test0 = Mrfc.predict(imgs_test)\n",
    "accuray_test = np.mean((input_gts_test0 - input_gts_test) ** 2)\n",
    "print ('test')\n",
    "print(accuray_test, Mrfc.score(imgs_test,input_gts_test))\n",
    "print(\"Done.\")\n",
    "\n"
   ]
  },
  {
   "cell_type": "code",
   "execution_count": 162,
   "metadata": {},
   "outputs": [
    {
     "data": {
      "image/png": "[encoded data removed]",
      "text/plain": [
       "<Figure size 432x288 with 1 Axes>"
      ]
     },
     "metadata": {},
     "output_type": "display_data"
    }
   ],
   "source": [
    "import matplotlib.pyplot as plt\n",
    "# Calculate feature importances\n",
    "importances = Mrfc.feature_importances_\n",
    "# Sort feature importances in descending order\n",
    "indices = np.argsort(importances)[::-1]\n",
    "\n",
    "# Barplot: Add bars\n",
    "plt.bar(range(X.shape[1]), importances[indices])\n",
    "# Add feature names as x-axis labels\n",
    "plt.xticks(range(X.shape[1]), indices, rotation=20, fontsize = 8)\n",
    "# Create plot title\n",
    "plt.title(\"Feature Importance\")\n",
    "# Show plot\n",
    "plt.show()"
   ]
  },
  {
   "cell_type": "code",
   "execution_count": 172,
   "metadata": {},
   "outputs": [
    {
     "data": {
      "image/png": "[encoded data removed]",
      "text/plain": [
       "<Figure size 432x288 with 1 Axes>"
      ]
     },
     "metadata": {},
     "output_type": "display_data"
    }
   ],
   "source": [
    "from sklearn.ensemble import RandomForestClassifier\n",
    "from sklearn.model_selection import StratifiedKFold\n",
    "from yellowbrick.features import RFECV\n",
    "\n",
    "cv = StratifiedKFold(5)\n",
    "oz = RFECV(RandomForestClassifier(), step = 100, cv=cv, scoring='f1_weighted')\n",
    "\n",
    "oz.fit(X, Y)\n",
    "oz.poof()"
   ]
  },
  {
   "cell_type": "code",
   "execution_count": 95,
   "metadata": {},
   "outputs": [
    {
     "data": {
      "text/plain": [
       "0.6529959213941415"
      ]
     },
     "execution_count": 95,
     "metadata": {},
     "output_type": "execute_result"
    }
   ],
   "source": [
    "from sklearn import tree   \n",
    "from sklearn.model_selection import cross_val_score\n",
    "#classifier\n",
    "clf = tree.DecisionTreeClassifier()\n",
    "\n",
    "clf = clf.fit(features, Y)\n",
    "\n",
    "cv_scores = cross_val_score(clf, features, Y, cv=10)\n",
    "\n",
    "cv_scores.mean()"
   ]
  },
  {
   "cell_type": "code",
   "execution_count": 96,
   "metadata": {},
   "outputs": [
    {
     "name": "stdout",
     "output_type": "stream",
     "text": [
      "[0.068 0.057 0.191 0.083 0.069 0.121 0.091 0.071 0.131 0.118]\n",
      "1.0\n"
     ]
    }
   ],
   "source": [
    "print(Mrfc.feature_importances_) #.mean()\n",
    "feature_importance_sum = np.sum(clf.feature_importances_)\n",
    "print(feature_importance_sum)"
   ]
  },
  {
   "cell_type": "code",
   "execution_count": 97,
   "metadata": {},
   "outputs": [
    {
     "name": "stdout",
     "output_type": "stream",
     "text": [
      "K-Nearest Neighbor accuracy: 72.32%\n"
     ]
    }
   ],
   "source": [
    "#    Implement K-Nearest Neighbors. Trained with K-Folds Cross validation with K=10\n",
    "from sklearn.neighbors import KNeighborsClassifier\n",
    "from sklearn.preprocessing import StandardScaler\n",
    "from sklearn import model_selection\n",
    "\n",
    "scaler = StandardScaler()\n",
    "scaler = scaler.fit(imgs_train)\n",
    "x_train = scaler.transform(imgs_train)\n",
    "x_test = scaler.transform(imgs_test)\n",
    "clf = KNeighborsClassifier(n_neighbors=5)\n",
    "clf = clf.fit(imgs_train, input_gts_train)\n",
    "\n",
    "score = clf.score(imgs_test, input_gts_test)\n",
    "scores = model_selection.cross_val_score(clf, features, Y, cv=10)\n",
    "print('K-Nearest Neighbor accuracy: ' + str(round(scores.mean()*100, 2)) + '%') "
   ]
  },
  {
   "cell_type": "code",
   "execution_count": 98,
   "metadata": {},
   "outputs": [
    {
     "name": "stdout",
     "output_type": "stream",
     "text": [
      "Naive Bayes accuracy: 59.943%\n"
     ]
    }
   ],
   "source": [
    "from sklearn.naive_bayes import GaussianNB\n",
    "\n",
    "\n",
    "clf = GaussianNB()\n",
    "clf = clf.fit(imgs_train, input_gts_train)\n",
    "scores = model_selection.cross_val_score(clf, features, Y, cv=10)\n",
    "print('Naive Bayes accuracy: ' + str(round(scores.mean()*100, 3)) + '%') "
   ]
  },
  {
   "cell_type": "code",
   "execution_count": 99,
   "metadata": {
    "scrolled": true
   },
   "outputs": [
    {
     "name": "stdout",
     "output_type": "stream",
     "text": [
      "Support Vector Machine accuracy: 53.56%\n"
     ]
    }
   ],
   "source": [
    "from sklearn import svm\n",
    "\n",
    "C = 1.0\n",
    "svc = svm.SVC(kernel='linear', C=C).fit(imgs_train, input_gts_train)\n",
    "scores = model_selection.cross_val_score(svc, features, Y, cv=10)\n",
    "print('Support Vector Machine accuracy: ' + str(round(scores.mean()*100, 3)) + '%')"
   ]
  },
  {
   "cell_type": "code",
   "execution_count": 101,
   "metadata": {},
   "outputs": [
    {
     "name": "stdout",
     "output_type": "stream",
     "text": [
      "Logistic Regression accuracy: 53.305%\n"
     ]
    }
   ],
   "source": [
    "from sklearn.linear_model import LogisticRegression\n",
    "\n",
    "lgr = LogisticRegression()\n",
    "lgr = lgr.fit(imgs_train, input_gts_train)\n",
    "scores = model_selection.cross_val_score(lgr, features, Y, cv=10)\n",
    "print('Logistic Regression accuracy: ' + str(round(scores.mean()*100, 3)) + '%') "
   ]
  },
  {
   "cell_type": "code",
   "execution_count": null,
   "metadata": {},
   "outputs": [],
   "source": [
    "from sklearn.model_selection import RandomizedSearchCV\n",
    "# number of trees in random forest\n",
    "n_estimators = [int(x) for x in np.linspace(start = 200, stop = 2000, num = 10)]\n",
    "# number of features at every split\n",
    "max_features = ['auto', 'sqrt']\n",
    "\n",
    "# max depth\n",
    "max_depth = [int(x) for x in np.linspace(100, 500, num = 11)]\n",
    "max_depth.append(None)\n",
    "# create random grid\n",
    "random_grid = {\n",
    " 'n_estimators': n_estimators,\n",
    " 'max_features': max_features,\n",
    " 'max_depth': max_depth\n",
    " }\n",
    "# Random search of parameters\n",
    "rfc_random = RandomizedSearchCV(estimator = Mrfc, param_distributions = random_grid, n_iter = 100, cv = 3, verbose=2, random_state=42, n_jobs = -1)\n",
    "# Fit the model\n",
    "rfc_random.fit(imgs_train, input_gts_train)\n",
    "# print results\n",
    "print(rfc_random.best_params_)"
   ]
  },
  {
   "cell_type": "code",
   "execution_count": 102,
   "metadata": {},
   "outputs": [],
   "source": [
    "from sklearn.model_selection import cross_val_score\n",
    "from sklearn.metrics import classification_report, confusion_matrix\n",
    "\n",
    "\n",
    "rfc_cv_score = cross_val_score(Mrfc, features, Y, cv=10, scoring='roc_auc') #cv=10\n"
   ]
  },
  {
   "cell_type": "code",
   "execution_count": 103,
   "metadata": {
    "scrolled": true
   },
   "outputs": [
    {
     "name": "stdout",
     "output_type": "stream",
     "text": [
      "=== Confusion Matrix ===\n",
      "[[23 16]\n",
      " [11 25]]\n",
      "\n",
      "\n",
      "=== Classification Report ===\n",
      "             precision    recall  f1-score   support\n",
      "\n",
      "        0.0       0.68      0.59      0.63        39\n",
      "        1.0       0.61      0.69      0.65        36\n",
      "\n",
      "avg / total       0.64      0.64      0.64        75\n",
      "\n",
      "\n",
      "\n",
      "=== All AUC Scores ===\n",
      "[0.804 0.817 0.904 0.68  0.756 0.662 0.676 0.757 0.852 0.648]\n",
      "\n",
      "\n",
      "=== Mean AUC Score ===\n",
      "Mean AUC Score - Random Forest:  0.755547619047619\n"
     ]
    }
   ],
   "source": [
    "print(\"=== Confusion Matrix ===\")\n",
    "print(confusion_matrix(input_gts_test, input_gts_test0))\n",
    "print('\\n')\n",
    "print(\"=== Classification Report ===\")\n",
    "print(classification_report(input_gts_test, input_gts_test0))\n",
    "print('\\n')\n",
    "print(\"=== All AUC Scores ===\")\n",
    "print(rfc_cv_score)\n",
    "print('\\n')\n",
    "print(\"=== Mean AUC Score ===\")\n",
    "print(\"Mean AUC Score - Random Forest: \", rfc_cv_score.mean())"
   ]
  },
  {
   "cell_type": "code",
   "execution_count": null,
   "metadata": {},
   "outputs": [],
   "source": [
    "from sklearn import metrics\n",
    "(precision, recall, fscore, support) = metrics.precision_recall_fscore_support(input_gts_test, input_gts_test0,\n",
    "                                                        average='weighted', \n",
    "                                                        warn_for=tuple())\n",
    "print(precision, recall, fscore, support)"
   ]
  },
  {
   "cell_type": "code",
   "execution_count": 21,
   "metadata": {},
   "outputs": [
    {
     "name": "stdout",
     "output_type": "stream",
     "text": [
      "[0.]\n"
     ]
    }
   ],
   "source": [
    "img = get_image(\"C:/Users/victory/Desktop/Inbreast/neg/InbreastJPG/20587346.jpg\")  \n",
    "mod3.forward(Batch([mx.nd.array(img)]))\n",
    "pred = (mod3.get_outputs()[0].asnumpy())\n",
    "res = Mrfc.predict(pred)\n",
    "\n",
    "#print (img.ndim)\n",
    "#plt.imshow(img)\n",
    "print (res)"
   ]
  },
  {
   "cell_type": "code",
   "execution_count": 23,
   "metadata": {},
   "outputs": [
    {
     "data": {
      "text/plain": [
       "'1.10.0'"
      ]
     },
     "execution_count": 23,
     "metadata": {},
     "output_type": "execute_result"
    }
   ],
   "source": [
    "import tensorflow as tf\n",
    "tf.VERSION"
   ]
  }
 ],
 "metadata": {
  "kernelspec": {
   "display_name": "Python 3",
   "language": "python",
   "name": "python3"
  },
  "language_info": {
   "codemirror_mode": {
    "name": "ipython",
    "version": 3
   },
   "file_extension": ".py",
   "mimetype": "text/x-python",
   "name": "python",
   "nbconvert_exporter": "python",
   "pygments_lexer": "ipython3",
   "version": "3.6.5"
  }
 },
 "nbformat": 4,
 "nbformat_minor": 2
}
